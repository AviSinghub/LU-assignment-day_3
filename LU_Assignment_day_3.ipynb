{
  "nbformat": 4,
  "nbformat_minor": 0,
  "metadata": {
    "colab": {
      "name": "LU_Assignment_day_3.ipynb",
      "provenance": [],
      "collapsed_sections": []
    },
    "kernelspec": {
      "name": "python3",
      "display_name": "Python 3"
    }
  },
  "cells": [
    {
      "cell_type": "markdown",
      "metadata": {
        "id": "0HPalIHYuBIN"
      },
      "source": [
        "**Writing a function in PYTHON to check whether the number is Prime or not.**"
      ]
    },
    {
      "cell_type": "code",
      "metadata": {
        "id": "NdWbbX63uSzb"
      },
      "source": [
        "def someFuc(Num) :\r\n",
        "  if Num%2 == 1 :\r\n",
        "    print(\"Its a Prime Number\")\r\n",
        "  else:\r\n",
        "    print(\"It is not a Prime Number\")      "
      ],
      "execution_count": 1,
      "outputs": []
    },
    {
      "cell_type": "code",
      "metadata": {
        "colab": {
          "base_uri": "https://localhost:8080/"
        },
        "id": "vRa-37W2vi57",
        "outputId": "63390a07-b6a9-4460-b30c-6d5fbec8aaae"
      },
      "source": [
        "someFuc(11)"
      ],
      "execution_count": 2,
      "outputs": [
        {
          "output_type": "stream",
          "text": [
            "Its a Prime Number\n"
          ],
          "name": "stdout"
        }
      ]
    },
    {
      "cell_type": "code",
      "metadata": {
        "colab": {
          "base_uri": "https://localhost:8080/"
        },
        "id": "Y2grLrA1vrOb",
        "outputId": "0d8027a4-c042-4da3-dc4c-4614219c1324"
      },
      "source": [
        "someFuc(484484)"
      ],
      "execution_count": 3,
      "outputs": [
        {
          "output_type": "stream",
          "text": [
            "It is not a Prime Number\n"
          ],
          "name": "stdout"
        }
      ]
    },
    {
      "cell_type": "code",
      "metadata": {
        "colab": {
          "base_uri": "https://localhost:8080/"
        },
        "id": "nFMt2HxkvvqY",
        "outputId": "11ae9238-eb2e-486b-8915-c8428849431f"
      },
      "source": [
        "someFuc(57)"
      ],
      "execution_count": 4,
      "outputs": [
        {
          "output_type": "stream",
          "text": [
            "Its a Prime Number\n"
          ],
          "name": "stdout"
        }
      ]
    },
    {
      "cell_type": "code",
      "metadata": {
        "colab": {
          "base_uri": "https://localhost:8080/"
        },
        "id": "dRZVxIZ1v2G6",
        "outputId": "20c35ca8-28a8-4b2d-e66b-349af7a20425"
      },
      "source": [
        "someFuc(89)"
      ],
      "execution_count": 5,
      "outputs": [
        {
          "output_type": "stream",
          "text": [
            "Its a Prime Number\n"
          ],
          "name": "stdout"
        }
      ]
    },
    {
      "cell_type": "code",
      "metadata": {
        "colab": {
          "base_uri": "https://localhost:8080/"
        },
        "id": "0GWy4kfHv6aq",
        "outputId": "8dfddec7-8b34-45b6-f6a0-e158c8a0e45d"
      },
      "source": [
        "someFuc(33)"
      ],
      "execution_count": 6,
      "outputs": [
        {
          "output_type": "stream",
          "text": [
            "Its a Prime Number\n"
          ],
          "name": "stdout"
        }
      ]
    },
    {
      "cell_type": "code",
      "metadata": {
        "colab": {
          "base_uri": "https://localhost:8080/"
        },
        "id": "PQqBSYOVwApf",
        "outputId": "d991af5c-a620-4dd3-b7dc-52b878bb632c"
      },
      "source": [
        "someFuc(7)"
      ],
      "execution_count": 7,
      "outputs": [
        {
          "output_type": "stream",
          "text": [
            "Its a Prime Number\n"
          ],
          "name": "stdout"
        }
      ]
    },
    {
      "cell_type": "code",
      "metadata": {
        "colab": {
          "base_uri": "https://localhost:8080/"
        },
        "id": "fpNBOk4MwFuA",
        "outputId": "a57e8efd-cc54-4fd2-abab-83f7453dd7e9"
      },
      "source": [
        "someFuc(587681)"
      ],
      "execution_count": 8,
      "outputs": [
        {
          "output_type": "stream",
          "text": [
            "Its a Prime Number\n"
          ],
          "name": "stdout"
        }
      ]
    },
    {
      "cell_type": "code",
      "metadata": {
        "colab": {
          "base_uri": "https://localhost:8080/"
        },
        "id": "V8oHlxI_wLCl",
        "outputId": "82b81dae-f598-495c-e8ff-a4cec757cb87"
      },
      "source": [
        "someFuc(40)"
      ],
      "execution_count": 9,
      "outputs": [
        {
          "output_type": "stream",
          "text": [
            "It is not a Prime Number\n"
          ],
          "name": "stdout"
        }
      ]
    }
  ]
}